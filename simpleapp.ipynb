{
 "cells": [
  {
   "cell_type": "code",
   "execution_count": 1,
   "id": "db2944dc",
   "metadata": {},
   "outputs": [
    {
     "name": "stderr",
     "output_type": "stream",
     "text": [
      "/Users/ah1/miniforge3/envs/myenv/lib/python3.10/site-packages/tqdm/auto.py:21: TqdmWarning: IProgress not found. Please update jupyter and ipywidgets. See https://ipywidgets.readthedocs.io/en/stable/user_install.html\n",
      "  from .autonotebook import tqdm as notebook_tqdm\n",
      "\n",
      "A module that was compiled using NumPy 1.x cannot be run in\n",
      "NumPy 2.2.6 as it may crash. To support both 1.x and 2.x\n",
      "versions of NumPy, modules must be compiled with NumPy 2.0.\n",
      "Some module may need to rebuild instead e.g. with 'pybind11>=2.12'.\n",
      "\n",
      "If you are a user of the module, the easiest solution will be to\n",
      "downgrade to 'numpy<2' or try to upgrade the affected module.\n",
      "We expect that some modules will need time to support NumPy 2.\n",
      "\n",
      "Traceback (most recent call last):  File \"/Users/ah1/miniforge3/envs/myenv/lib/python3.10/runpy.py\", line 196, in _run_module_as_main\n",
      "    return _run_code(code, main_globals, None,\n",
      "  File \"/Users/ah1/miniforge3/envs/myenv/lib/python3.10/runpy.py\", line 86, in _run_code\n",
      "    exec(code, run_globals)\n",
      "  File \"/Users/ah1/miniforge3/envs/myenv/lib/python3.10/site-packages/ipykernel_launcher.py\", line 18, in <module>\n",
      "    app.launch_new_instance()\n",
      "  File \"/Users/ah1/miniforge3/envs/myenv/lib/python3.10/site-packages/traitlets/config/application.py\", line 1075, in launch_instance\n",
      "    app.start()\n",
      "  File \"/Users/ah1/miniforge3/envs/myenv/lib/python3.10/site-packages/ipykernel/kernelapp.py\", line 758, in start\n",
      "    self.io_loop.start()\n",
      "  File \"/Users/ah1/miniforge3/envs/myenv/lib/python3.10/site-packages/tornado/platform/asyncio.py\", line 211, in start\n",
      "    self.asyncio_loop.run_forever()\n",
      "  File \"/Users/ah1/miniforge3/envs/myenv/lib/python3.10/asyncio/base_events.py\", line 603, in run_forever\n",
      "    self._run_once()\n",
      "  File \"/Users/ah1/miniforge3/envs/myenv/lib/python3.10/asyncio/base_events.py\", line 1909, in _run_once\n",
      "    handle._run()\n",
      "  File \"/Users/ah1/miniforge3/envs/myenv/lib/python3.10/asyncio/events.py\", line 80, in _run\n",
      "    self._context.run(self._callback, *self._args)\n",
      "  File \"/Users/ah1/miniforge3/envs/myenv/lib/python3.10/site-packages/ipykernel/kernelbase.py\", line 701, in shell_main\n",
      "    await self.dispatch_shell(msg, subshell_id=subshell_id)\n",
      "  File \"/Users/ah1/miniforge3/envs/myenv/lib/python3.10/site-packages/ipykernel/kernelbase.py\", line 469, in dispatch_shell\n",
      "    await result\n",
      "  File \"/Users/ah1/miniforge3/envs/myenv/lib/python3.10/site-packages/ipykernel/ipkernel.py\", line 379, in execute_request\n",
      "    await super().execute_request(stream, ident, parent)\n",
      "  File \"/Users/ah1/miniforge3/envs/myenv/lib/python3.10/site-packages/ipykernel/kernelbase.py\", line 899, in execute_request\n",
      "    reply_content = await reply_content\n",
      "  File \"/Users/ah1/miniforge3/envs/myenv/lib/python3.10/site-packages/ipykernel/ipkernel.py\", line 471, in do_execute\n",
      "    res = shell.run_cell(\n",
      "  File \"/Users/ah1/miniforge3/envs/myenv/lib/python3.10/site-packages/ipykernel/zmqshell.py\", line 632, in run_cell\n",
      "    return super().run_cell(*args, **kwargs)\n",
      "  File \"/Users/ah1/miniforge3/envs/myenv/lib/python3.10/site-packages/IPython/core/interactiveshell.py\", line 3077, in run_cell\n",
      "    result = self._run_cell(\n",
      "  File \"/Users/ah1/miniforge3/envs/myenv/lib/python3.10/site-packages/IPython/core/interactiveshell.py\", line 3132, in _run_cell\n",
      "    result = runner(coro)\n",
      "  File \"/Users/ah1/miniforge3/envs/myenv/lib/python3.10/site-packages/IPython/core/async_helpers.py\", line 128, in _pseudo_sync_runner\n",
      "    coro.send(None)\n",
      "  File \"/Users/ah1/miniforge3/envs/myenv/lib/python3.10/site-packages/IPython/core/interactiveshell.py\", line 3336, in run_cell_async\n",
      "    has_raised = await self.run_ast_nodes(code_ast.body, cell_name,\n",
      "  File \"/Users/ah1/miniforge3/envs/myenv/lib/python3.10/site-packages/IPython/core/interactiveshell.py\", line 3519, in run_ast_nodes\n",
      "    if await self.run_code(code, result, async_=asy):\n",
      "  File \"/Users/ah1/miniforge3/envs/myenv/lib/python3.10/site-packages/IPython/core/interactiveshell.py\", line 3579, in run_code\n",
      "    exec(code_obj, self.user_global_ns, self.user_ns)\n",
      "  File \"/var/folders/z5/5710k0hn4hn8dry3ycxcytfm0000gp/T/ipykernel_62456/2597010173.py\", line 1, in <module>\n",
      "    from langchain_community.document_loaders import WebBaseLoader\n",
      "  File \"/Users/ah1/miniforge3/envs/myenv/lib/python3.10/site-packages/langchain_community/document_loaders/__init__.py\", line 740, in __getattr__\n",
      "    module = importlib.import_module(_module_lookup[name])\n",
      "  File \"/Users/ah1/miniforge3/envs/myenv/lib/python3.10/importlib/__init__.py\", line 126, in import_module\n",
      "    return _bootstrap._gcd_import(name[level:], package, level)\n",
      "  File \"/Users/ah1/miniforge3/envs/myenv/lib/python3.10/site-packages/langchain_community/document_loaders/web_base.py\", line 13, in <module>\n",
      "    from langchain_community.document_loaders.base import BaseLoader\n",
      "  File \"/Users/ah1/miniforge3/envs/myenv/lib/python3.10/site-packages/langchain_community/document_loaders/base.py\", line 1, in <module>\n",
      "    from langchain_core.document_loaders import BaseBlobParser, BaseLoader\n",
      "  File \"/Users/ah1/miniforge3/envs/myenv/lib/python3.10/site-packages/langchain_core/document_loaders/__init__.py\", line 33, in __getattr__\n",
      "    result = import_attr(attr_name, module_name, __spec__.parent)\n",
      "  File \"/Users/ah1/miniforge3/envs/myenv/lib/python3.10/site-packages/langchain_core/_import_utils.py\", line 35, in import_attr\n",
      "    module = import_module(f\".{module_name}\", package=package)\n",
      "  File \"/Users/ah1/miniforge3/envs/myenv/lib/python3.10/importlib/__init__.py\", line 126, in import_module\n",
      "    return _bootstrap._gcd_import(name[level:], package, level)\n",
      "  File \"/Users/ah1/miniforge3/envs/myenv/lib/python3.10/site-packages/langchain_core/document_loaders/base.py\", line 19, in <module>\n",
      "    from langchain_text_splitters import RecursiveCharacterTextSplitter\n",
      "  File \"/Users/ah1/miniforge3/envs/myenv/lib/python3.10/site-packages/langchain_text_splitters/__init__.py\", line 8, in <module>\n",
      "    from langchain_text_splitters.base import (\n",
      "  File \"/Users/ah1/miniforge3/envs/myenv/lib/python3.10/site-packages/langchain_text_splitters/base.py\", line 33, in <module>\n",
      "    from transformers.tokenization_utils_base import PreTrainedTokenizerBase\n",
      "  File \"/Users/ah1/miniforge3/envs/myenv/lib/python3.10/site-packages/transformers/__init__.py\", line 27, in <module>\n",
      "    from . import dependency_versions_check\n",
      "  File \"/Users/ah1/miniforge3/envs/myenv/lib/python3.10/site-packages/transformers/dependency_versions_check.py\", line 16, in <module>\n",
      "    from .utils.versions import require_version, require_version_core\n",
      "  File \"/Users/ah1/miniforge3/envs/myenv/lib/python3.10/site-packages/transformers/utils/__init__.py\", line 24, in <module>\n",
      "    from .auto_docstring import (\n",
      "  File \"/Users/ah1/miniforge3/envs/myenv/lib/python3.10/site-packages/transformers/utils/auto_docstring.py\", line 30, in <module>\n",
      "    from .generic import ModelOutput\n",
      "  File \"/Users/ah1/miniforge3/envs/myenv/lib/python3.10/site-packages/transformers/utils/generic.py\", line 51, in <module>\n",
      "    import torch\n",
      "  File \"/Users/ah1/miniforge3/envs/myenv/lib/python3.10/site-packages/torch/__init__.py\", line 1477, in <module>\n",
      "    from .functional import *  # noqa: F403\n",
      "  File \"/Users/ah1/miniforge3/envs/myenv/lib/python3.10/site-packages/torch/functional.py\", line 9, in <module>\n",
      "    import torch.nn.functional as F\n",
      "  File \"/Users/ah1/miniforge3/envs/myenv/lib/python3.10/site-packages/torch/nn/__init__.py\", line 1, in <module>\n",
      "    from .modules import *  # noqa: F403\n",
      "  File \"/Users/ah1/miniforge3/envs/myenv/lib/python3.10/site-packages/torch/nn/modules/__init__.py\", line 35, in <module>\n",
      "    from .transformer import TransformerEncoder, TransformerDecoder, \\\n",
      "  File \"/Users/ah1/miniforge3/envs/myenv/lib/python3.10/site-packages/torch/nn/modules/transformer.py\", line 20, in <module>\n",
      "    device: torch.device = torch.device(torch._C._get_default_device()),  # torch.device('cpu'),\n",
      "/Users/ah1/miniforge3/envs/myenv/lib/python3.10/site-packages/torch/nn/modules/transformer.py:20: UserWarning: Failed to initialize NumPy: _ARRAY_API not found (Triggered internally at /Users/runner/work/pytorch/pytorch/pytorch/torch/csrc/utils/tensor_numpy.cpp:84.)\n",
      "  device: torch.device = torch.device(torch._C._get_default_device()),  # torch.device('cpu'),\n",
      "USER_AGENT environment variable not set, consider setting it to identify your requests.\n"
     ]
    },
    {
     "data": {
      "text/plain": [
       "<langchain_community.document_loaders.web_base.WebBaseLoader at 0x10a38fd60>"
      ]
     },
     "execution_count": 1,
     "metadata": {},
     "output_type": "execute_result"
    }
   ],
   "source": [
    "from langchain_community.document_loaders import WebBaseLoader\n",
    "loader=WebBaseLoader(\"https://docs.langchain.com/oss/python/langchain/agents\")\n",
    "loader\n"
   ]
  },
  {
   "cell_type": "code",
   "execution_count": 2,
   "id": "a7136bf8",
   "metadata": {},
   "outputs": [
    {
     "data": {
      "text/plain": [
       "[Document(metadata={'source': 'https://docs.langchain.com/oss/python/langchain/agents', 'title': 'Agents - Docs by LangChain', 'language': 'en'}, page_content='Agents - Docs by LangChainSkip to main contentLangGraph Platform is now part of LangSmith. Check out the Changelog for more information.Docs by LangChain home pageLangChain + LangGraphSearch...⌘KGitHubTry LangSmithTry LangSmithSearch...NavigationCore componentsAgentsLangChainLangGraphIntegrationsLearnReferenceContributingPythonOverviewLangChain v1.0Release notesMigration guideGet startedInstallQuickstartPhilosophyCore componentsAgentsModelsMessagesToolsShort-term memoryStreamingAdvanced usageMiddlewareGuardrailsStructured outputRuntimeContext engineeringModel Context Protocol (MCP)Human-in-the-loopMulti-agentRetrievalLong-term memoryUse in productionStudioTestDeployAgent Chat UIObservabilityOn this pageCore componentsModelStatic modelDynamic modelToolsDefining toolsTool error handlingTool use in the ReAct loopSystem promptDynamic system promptInvocationAdvanced conceptsStructured outputToolStrategyProviderStrategyMemoryDefining state via middlewareDefining state via state_schemaStreamingMiddlewareCore componentsAgentsCopy pageCopy pageLangChain v1.0Welcome to the new LangChain documentation! If you encounter any issues or have feedback, please open an issue so we can improve. Archived v0 documentation can be found here.See the release notes and migration guide for a complete list of changes and instructions on how to upgrade your code.\\nAgents combine language models with tools to create systems that can reason about tasks, decide which tools to use, and iteratively work towards solutions.\\ncreate_agent provides a production-ready agent implementation.\\nAn LLM Agent runs tools in a loop to achieve a goal.\\nAn agent runs until a stop condition is met - i.e., when the model emits a final output or an iteration limit is reached.\\n\\ncreate_agent builds a graph-based agent runtime using LangGraph. A graph consists of nodes (steps) and edges (connections) that define how your agent processes information. The agent moves through this graph, executing nodes like the model node (which calls the model), the tools node (which executes tools), or middleware.Learn more about the Graph API.\\n\\u200bCore components\\n\\u200bModel\\nThe model is the reasoning engine of your agent. It can be specified in multiple ways, supporting both static and dynamic model selection.\\n\\u200bStatic model\\nStatic models are configured once when creating the agent and remain unchanged throughout execution. This is the most common and straightforward approach.\\nTo initialize a static model from a model identifier string:\\nCopyfrom langchain.agents import create_agent\\n\\nagent = create_agent(\\n    \"openai:gpt-5\",\\n    tools=tools\\n)\\n\\nModel identifier strings support automatic inference (e.g., \"gpt-5\" will be inferred as \"openai:gpt-5\"). Refer to the reference to see a full list of model identifier string mappings.\\nFor more control over the model configuration, initialize a model instance directly using the provider package. In this example, we use ChatOpenAI. See Chat models for other available chat model classes.\\nCopyfrom langchain.agents import create_agent\\nfrom langchain_openai import ChatOpenAI\\n\\nmodel = ChatOpenAI(\\n    model=\"gpt-5\",\\n    temperature=0.1,\\n    max_tokens=1000,\\n    timeout=30\\n    # ... (other params)\\n)\\nagent = create_agent(model, tools=tools)\\n\\nModel instances give you complete control over configuration. Use them when you need to set specific parameters like temperature, max_tokens, timeouts, base_url, and other provider-specific settings. Refer to the reference to see available params and methods on your model.\\n\\u200bDynamic model\\nDynamic models are selected at runtime based on the current state and context. This enables sophisticated routing logic and cost optimization.\\nTo use a dynamic model, create middleware using the @wrap_model_call decorator that modifies the model in the request:\\nCopyfrom langchain_openai import ChatOpenAI\\nfrom langchain.agents import create_agent\\nfrom langchain.agents.middleware import wrap_model_call, ModelRequest, ModelResponse\\n\\n\\nbasic_model = ChatOpenAI(model=\"gpt-4o-mini\")\\nadvanced_model = ChatOpenAI(model=\"gpt-4o\")\\n\\n@wrap_model_call\\ndef dynamic_model_selection(request: ModelRequest, handler) -> ModelResponse:\\n    \"\"\"Choose model based on conversation complexity.\"\"\"\\n    message_count = len(request.state[\"messages\"])\\n\\n    if message_count > 10:\\n        # Use an advanced model for longer conversations\\n        model = advanced_model\\n    else:\\n        model = basic_model\\n\\n    request.model = model\\n    return handler(request)\\n\\nagent = create_agent(\\n    model=basic_model,  # Default model\\n    tools=tools,\\n    middleware=[dynamic_model_selection]\\n)\\n\\nPre-bound models (models with bind_tools already called) are not supported when using structured output. If you need dynamic model selection with structured output, ensure the models passed to the middleware are not pre-bound.\\nFor model configuration details, see Models. For dynamic model selection patterns, see Dynamic model in middleware.\\n\\u200bTools\\nTools give agents the ability to take actions. Agents go beyond simple model-only tool binding by facilitating:\\n\\nMultiple tool calls in sequence (triggered by a single prompt)\\nParallel tool calls when appropriate\\nDynamic tool selection based on previous results\\nTool retry logic and error handling\\nState persistence across tool calls\\n\\nFor more information, see Tools.\\n\\u200bDefining tools\\nPass a list of tools to the agent.\\nCopyfrom langchain.tools import tool\\nfrom langchain.agents import create_agent\\n\\n\\n@tool\\ndef search(query: str) -> str:\\n    \"\"\"Search for information.\"\"\"\\n    return f\"Results for: {query}\"\\n\\n@tool\\ndef get_weather(location: str) -> str:\\n    \"\"\"Get weather information for a location.\"\"\"\\n    return f\"Weather in {location}: Sunny, 72°F\"\\n\\nagent = create_agent(model, tools=[search, get_weather])\\n\\nIf an empty tool list is provided, the agent will consist of a single LLM node without tool-calling capabilities.\\n\\u200bTool error handling\\nTo customize how tool errors are handled, use the @wrap_tool_call decorator to create middleware:\\nCopyfrom langchain.agents import create_agent\\nfrom langchain.agents.middleware import wrap_tool_call\\nfrom langchain_core.messages import ToolMessage\\n\\n\\n@wrap_tool_call\\ndef handle_tool_errors(request, handler):\\n    \"\"\"Handle tool execution errors with custom messages.\"\"\"\\n    try:\\n        return handler(request)\\n    except Exception as e:\\n        # Return a custom error message to the model\\n        return ToolMessage(\\n            content=f\"Tool error: Please check your input and try again. ({str(e)})\",\\n            tool_call_id=request.tool_call[\"id\"]\\n        )\\n\\nagent = create_agent(\\n    model=\"openai:gpt-4o\",\\n    tools=[search, get_weather],\\n    middleware=[handle_tool_errors]\\n)\\n\\nThe agent will return a ToolMessage with the custom error message when a tool fails:\\nCopy[\\n    ...\\n    ToolMessage(\\n        content=\"Tool error: Please check your input and try again. (division by zero)\",\\n        tool_call_id=\"...\"\\n    ),\\n    ...\\n]\\n\\n\\u200bTool use in the ReAct loop\\nAgents follow the ReAct (“Reasoning + Acting”) pattern, alternating between brief reasoning steps with targeted tool calls and feeding the resulting observations into subsequent decisions until they can deliver a final answer.\\nExample of ReAct loopPrompt: Identify the current most popular wireless headphones and verify availability.Copy================================ Human Message =================================\\n\\nFind the most popular wireless headphones right now and check if they\\'re in stock\\n\\nReasoning: “Popularity is time-sensitive, I need to use the provided search tool.”\\nActing: Call search_products(\"wireless headphones\")\\nCopy================================== Ai Message ==================================\\nTool Calls:\\n  search_products (call_abc123)\\n Call ID: call_abc123\\n  Args:\\n    query: wireless headphones\\nCopy================================= Tool Message =================================\\n\\nFound 5 products matching \"wireless headphones\". Top 5 results: WH-1000XM5, ...\\n\\nReasoning: “I need to confirm availability for the top-ranked item before answering.”\\nActing: Call check_inventory(\"WH-1000XM5\")\\nCopy================================== Ai Message ==================================\\nTool Calls:\\n  check_inventory (call_def456)\\n Call ID: call_def456\\n  Args:\\n    product_id: WH-1000XM5\\nCopy================================= Tool Message =================================\\n\\nProduct WH-1000XM5: 10 units in stock\\n\\nReasoning: “I have the most popular model and its stock status. I can now answer the user’s question.”\\nActing: Produce final answer\\nCopy================================== Ai Message ==================================\\n\\nI found wireless headphones (model WH-1000XM5) with 10 units in stock...\\n\\nTo learn more about tools, see Tools.\\n\\u200bSystem prompt\\nYou can shape how your agent approaches tasks by providing a prompt. The system_prompt parameter can be provided as a string:\\nCopyagent = create_agent(\\n    model,\\n    tools,\\n    system_prompt=\"You are a helpful assistant. Be concise and accurate.\"\\n)\\n\\nWhen no system_prompt is provided, the agent will infer its task from the messages directly.\\n\\u200bDynamic system prompt\\nFor more advanced use cases where you need to modify the system prompt based on runtime context or agent state, you can use middleware.\\nThe @dynamic_prompt decorator creates middleware that generates system prompts dynamically based on the model request:\\nCopyfrom typing import TypedDict\\n\\nfrom langchain.agents import create_agent\\nfrom langchain.agents.middleware import dynamic_prompt, ModelRequest\\n\\n\\nclass Context(TypedDict):\\n    user_role: str\\n\\n@dynamic_prompt\\ndef user_role_prompt(request: ModelRequest) -> str:\\n    \"\"\"Generate system prompt based on user role.\"\"\"\\n    user_role = request.runtime.context.get(\"user_role\", \"user\")\\n    base_prompt = \"You are a helpful assistant.\"\\n\\n    if user_role == \"expert\":\\n        return f\"{base_prompt} Provide detailed technical responses.\"\\n    elif user_role == \"beginner\":\\n        return f\"{base_prompt} Explain concepts simply and avoid jargon.\"\\n\\n    return base_prompt\\n\\nagent = create_agent(\\n    model=\"openai:gpt-4o\",\\n    tools=[web_search],\\n    middleware=[user_role_prompt],\\n    context_schema=Context\\n)\\n\\n# The system prompt will be set dynamically based on context\\nresult = agent.invoke(\\n    {\"messages\": [{\"role\": \"user\", \"content\": \"Explain machine learning\"}]},\\n    context={\"user_role\": \"expert\"}\\n)\\n\\nFor more details on message types and formatting, see Messages. For comprehensive middleware documentation, see Middleware.\\n\\u200bInvocation\\nYou can invoke an agent by passing an update to its State. All agents include a sequence of messages in their state; to invoke the agent, pass a new message:\\nCopyresult = agent.invoke(\\n    {\"messages\": [{\"role\": \"user\", \"content\": \"What\\'s the weather in San Francisco?\"}]}\\n)\\n\\nFor streaming steps and / or tokens from the agent, refer to the streaming guide.\\nOtherwise, the agent follows the LangGraph Graph API and supports all associated methods.\\n\\u200bAdvanced concepts\\n\\u200bStructured output\\nIn some situations, you may want the agent to return an output in a specific format. LangChain provides strategies for structured output via the response_format parameter.\\n\\u200bToolStrategy\\nToolStrategy uses artificial tool calling to generate structured output. This works with any model that supports tool calling:\\nCopyfrom pydantic import BaseModel\\nfrom langchain.agents import create_agent\\nfrom langchain.agents.structured_output import ToolStrategy\\n\\n\\nclass ContactInfo(BaseModel):\\n    name: str\\n    email: str\\n    phone: str\\n\\nagent = create_agent(\\n    model=\"openai:gpt-4o-mini\",\\n    tools=[search_tool],\\n    response_format=ToolStrategy(ContactInfo)\\n)\\n\\nresult = agent.invoke({\\n    \"messages\": [{\"role\": \"user\", \"content\": \"Extract contact info from: John Doe, john@example.com, (555) 123-4567\"}]\\n})\\n\\nresult[\"structured_response\"]\\n# ContactInfo(name=\\'John Doe\\', email=\\'john@example.com\\', phone=\\'(555) 123-4567\\')\\n\\n\\u200bProviderStrategy\\nProviderStrategy uses the model provider’s native structured output generation. This is more reliable but only works with providers that support native structured output (e.g., OpenAI):\\nCopyfrom langchain.agents.structured_output import ProviderStrategy\\n\\nagent = create_agent(\\n    model=\"openai:gpt-4o\",\\n    response_format=ProviderStrategy(ContactInfo)\\n)\\n\\nAs of langchain 1.0, simply passing a schema (e.g., response_format=ContactInfo) is no longer supported. You must explicitly use ToolStrategy or ProviderStrategy.\\nTo learn about structured output, see Structured output.\\n\\u200bMemory\\nAgents maintain conversation history automatically through the message state. You can also configure the agent to use a custom state schema to remember additional information during the conversation.\\nInformation stored in the state can be thought of as the short-term memory of the agent:\\nCustom state schemas must extend AgentState as a TypedDict.\\nThere are two ways to define custom state:\\n\\nVia middleware (preferred)\\nVia state_schema on create_agent\\n\\nDefining custom state via middleware is preferred over defining it via state_schema on create_agent because it allows you to keep state extensions conceptually scoped to the relevant middleware and tools.state_schema is still supported for backwards compatibility on create_agent.\\n\\u200bDefining state via middleware\\nUse middleware to define custom state when your custom state needs to be accessed by specific middleware hooks and tools attached to said middleware.\\nCopyfrom langchain.agents import AgentState\\nfrom langchain.agents.middleware import AgentMiddleware\\n\\n\\nclass CustomState(AgentState):\\n    user_preferences: dict\\n\\nclass CustomMiddleware(AgentMiddleware):\\n    state_schema = CustomState\\n    tools = [tool1, tool2]\\n\\n    def before_model(self, state: CustomState, runtime) -> dict[str, Any] | None:\\n        ...\\n\\nagent = create_agent(\\n    model,\\n    tools=tools,\\n    middleware=[CustomMiddleware()]\\n)\\n\\n# The agent can now track additional state beyond messages\\nresult = agent.invoke({\\n    \"messages\": [{\"role\": \"user\", \"content\": \"I prefer technical explanations\"}],\\n    \"user_preferences\": {\"style\": \"technical\", \"verbosity\": \"detailed\"},\\n})\\n\\n\\u200bDefining state via state_schema\\nUse the state_schema parameter as a shortcut to define custom state that is only used in tools.\\nCopyfrom langchain.agents import AgentState\\n\\n\\nclass CustomState(AgentState):\\n    user_preferences: dict\\n\\nagent = create_agent(\\n    model,\\n    tools=[tool1, tool2],\\n    state_schema=CustomState\\n)\\n# The agent can now track additional state beyond messages\\nresult = agent.invoke({\\n    \"messages\": [{\"role\": \"user\", \"content\": \"I prefer technical explanations\"}],\\n    \"user_preferences\": {\"style\": \"technical\", \"verbosity\": \"detailed\"},\\n})\\n\\nAs of langchain 1.0, custom state schemas must be TypedDict types. Pydantic models and dataclasses are no longer supported. See the v1 migration guide for more details.\\nTo learn more about memory, see Memory. For information on implementing long-term memory that persists across sessions, see Long-term memory.\\n\\u200bStreaming\\nWe’ve seen how the agent can be called with invoke to get a final response. If the agent executes multiple steps, this may take a while. To show intermediate progress, we can stream back messages as they occur.\\nCopyfor chunk in agent.stream({\\n    \"messages\": [{\"role\": \"user\", \"content\": \"Search for AI news and summarize the findings\"}]\\n}, stream_mode=\"values\"):\\n    # Each chunk contains the full state at that point\\n    latest_message = chunk[\"messages\"][-1]\\n    if latest_message.content:\\n        print(f\"Agent: {latest_message.content}\")\\n    elif latest_message.tool_calls:\\n        print(f\"Calling tools: {[tc[\\'name\\'] for tc in latest_message.tool_calls]}\")\\n\\nFor more details on streaming, see Streaming.\\n\\u200bMiddleware\\nMiddleware provides powerful extensibility for customizing agent behavior at different stages of execution. You can use middleware to:\\n\\nProcess state before the model is called (e.g., message trimming, context injection)\\nModify or validate the model’s response (e.g., guardrails, content filtering)\\nHandle tool execution errors with custom logic\\nImplement dynamic model selection based on state or context\\nAdd custom logging, monitoring, or analytics\\n\\nMiddleware integrates seamlessly into the agent’s execution graph, allowing you to intercept and modify data flow at key points without changing the core agent logic.\\nFor comprehensive middleware documentation including decorators like @before_model, @after_model, and @wrap_tool_call, see Middleware.\\n\\nEdit the source of this page on GitHubWas this page helpful?YesNoPhilosophyPreviousModelsNext⌘IDocs by LangChain home pagegithubxlinkedinyoutubeResourcesForumChangelogLangChain AcademyTrust CenterCompanyAboutCareersBloggithubxlinkedinyoutubePowered by Mintlify')]"
      ]
     },
     "execution_count": 2,
     "metadata": {},
     "output_type": "execute_result"
    }
   ],
   "source": [
    "docs=loader.load()\n",
    "docs"
   ]
  },
  {
   "cell_type": "code",
   "execution_count": 3,
   "id": "a367285e",
   "metadata": {},
   "outputs": [
    {
     "data": {
      "text/plain": [
       "[Document(metadata={'source': 'https://docs.langchain.com/oss/python/langchain/agents', 'title': 'Agents - Docs by LangChain', 'language': 'en'}, page_content='Agents - Docs by LangChainSkip to main contentLangGraph Platform is now part of LangSmith. Check out the Changelog for more information.Docs by LangChain home pageLangChain + LangGraphSearch...⌘KGitHubTry LangSmithTry LangSmithSearch...NavigationCore componentsAgentsLangChainLangGraphIntegrationsLearnReferenceContributingPythonOverviewLangChain v1.0Release notesMigration guideGet startedInstallQuickstartPhilosophyCore componentsAgentsModelsMessagesToolsShort-term memoryStreamingAdvanced usageMiddlewareGuardrailsStructured outputRuntimeContext engineeringModel Context Protocol (MCP)Human-in-the-loopMulti-agentRetrievalLong-term memoryUse in productionStudioTestDeployAgent Chat UIObservabilityOn this pageCore componentsModelStatic modelDynamic modelToolsDefining toolsTool error handlingTool use in the ReAct loopSystem promptDynamic system promptInvocationAdvanced conceptsStructured outputToolStrategyProviderStrategyMemoryDefining state via middlewareDefining state via'),\n",
       " Document(metadata={'source': 'https://docs.langchain.com/oss/python/langchain/agents', 'title': 'Agents - Docs by LangChain', 'language': 'en'}, page_content='outputToolStrategyProviderStrategyMemoryDefining state via middlewareDefining state via state_schemaStreamingMiddlewareCore componentsAgentsCopy pageCopy pageLangChain v1.0Welcome to the new LangChain documentation! If you encounter any issues or have feedback, please open an issue so we can improve. Archived v0 documentation can be found here.See the release notes and migration guide for a complete list of changes and instructions on how to upgrade your code.'),\n",
       " Document(metadata={'source': 'https://docs.langchain.com/oss/python/langchain/agents', 'title': 'Agents - Docs by LangChain', 'language': 'en'}, page_content='Agents combine language models with tools to create systems that can reason about tasks, decide which tools to use, and iteratively work towards solutions.\\ncreate_agent provides a production-ready agent implementation.\\nAn LLM Agent runs tools in a loop to achieve a goal.\\nAn agent runs until a stop condition is met - i.e., when the model emits a final output or an iteration limit is reached.'),\n",
       " Document(metadata={'source': 'https://docs.langchain.com/oss/python/langchain/agents', 'title': 'Agents - Docs by LangChain', 'language': 'en'}, page_content='create_agent builds a graph-based agent runtime using LangGraph. A graph consists of nodes (steps) and edges (connections) that define how your agent processes information. The agent moves through this graph, executing nodes like the model node (which calls the model), the tools node (which executes tools), or middleware.Learn more about the Graph API.\\n\\u200bCore components\\n\\u200bModel\\nThe model is the reasoning engine of your agent. It can be specified in multiple ways, supporting both static and dynamic model selection.\\n\\u200bStatic model\\nStatic models are configured once when creating the agent and remain unchanged throughout execution. This is the most common and straightforward approach.\\nTo initialize a static model from a model identifier string:\\nCopyfrom langchain.agents import create_agent\\n\\nagent = create_agent(\\n    \"openai:gpt-5\",\\n    tools=tools\\n)'),\n",
       " Document(metadata={'source': 'https://docs.langchain.com/oss/python/langchain/agents', 'title': 'Agents - Docs by LangChain', 'language': 'en'}, page_content='agent = create_agent(\\n    \"openai:gpt-5\",\\n    tools=tools\\n)\\n\\nModel identifier strings support automatic inference (e.g., \"gpt-5\" will be inferred as \"openai:gpt-5\"). Refer to the reference to see a full list of model identifier string mappings.\\nFor more control over the model configuration, initialize a model instance directly using the provider package. In this example, we use ChatOpenAI. See Chat models for other available chat model classes.\\nCopyfrom langchain.agents import create_agent\\nfrom langchain_openai import ChatOpenAI\\n\\nmodel = ChatOpenAI(\\n    model=\"gpt-5\",\\n    temperature=0.1,\\n    max_tokens=1000,\\n    timeout=30\\n    # ... (other params)\\n)\\nagent = create_agent(model, tools=tools)'),\n",
       " Document(metadata={'source': 'https://docs.langchain.com/oss/python/langchain/agents', 'title': 'Agents - Docs by LangChain', 'language': 'en'}, page_content='Model instances give you complete control over configuration. Use them when you need to set specific parameters like temperature, max_tokens, timeouts, base_url, and other provider-specific settings. Refer to the reference to see available params and methods on your model.\\n\\u200bDynamic model\\nDynamic models are selected at runtime based on the current state and context. This enables sophisticated routing logic and cost optimization.\\nTo use a dynamic model, create middleware using the @wrap_model_call decorator that modifies the model in the request:\\nCopyfrom langchain_openai import ChatOpenAI\\nfrom langchain.agents import create_agent\\nfrom langchain.agents.middleware import wrap_model_call, ModelRequest, ModelResponse\\n\\n\\nbasic_model = ChatOpenAI(model=\"gpt-4o-mini\")\\nadvanced_model = ChatOpenAI(model=\"gpt-4o\")'),\n",
       " Document(metadata={'source': 'https://docs.langchain.com/oss/python/langchain/agents', 'title': 'Agents - Docs by LangChain', 'language': 'en'}, page_content='basic_model = ChatOpenAI(model=\"gpt-4o-mini\")\\nadvanced_model = ChatOpenAI(model=\"gpt-4o\")\\n\\n@wrap_model_call\\ndef dynamic_model_selection(request: ModelRequest, handler) -> ModelResponse:\\n    \"\"\"Choose model based on conversation complexity.\"\"\"\\n    message_count = len(request.state[\"messages\"])\\n\\n    if message_count > 10:\\n        # Use an advanced model for longer conversations\\n        model = advanced_model\\n    else:\\n        model = basic_model\\n\\n    request.model = model\\n    return handler(request)\\n\\nagent = create_agent(\\n    model=basic_model,  # Default model\\n    tools=tools,\\n    middleware=[dynamic_model_selection]\\n)'),\n",
       " Document(metadata={'source': 'https://docs.langchain.com/oss/python/langchain/agents', 'title': 'Agents - Docs by LangChain', 'language': 'en'}, page_content='Pre-bound models (models with bind_tools already called) are not supported when using structured output. If you need dynamic model selection with structured output, ensure the models passed to the middleware are not pre-bound.\\nFor model configuration details, see Models. For dynamic model selection patterns, see Dynamic model in middleware.\\n\\u200bTools\\nTools give agents the ability to take actions. Agents go beyond simple model-only tool binding by facilitating:\\n\\nMultiple tool calls in sequence (triggered by a single prompt)\\nParallel tool calls when appropriate\\nDynamic tool selection based on previous results\\nTool retry logic and error handling\\nState persistence across tool calls\\n\\nFor more information, see Tools.\\n\\u200bDefining tools\\nPass a list of tools to the agent.\\nCopyfrom langchain.tools import tool\\nfrom langchain.agents import create_agent\\n\\n\\n@tool\\ndef search(query: str) -> str:\\n    \"\"\"Search for information.\"\"\"\\n    return f\"Results for: {query}\"'),\n",
       " Document(metadata={'source': 'https://docs.langchain.com/oss/python/langchain/agents', 'title': 'Agents - Docs by LangChain', 'language': 'en'}, page_content='@tool\\ndef get_weather(location: str) -> str:\\n    \"\"\"Get weather information for a location.\"\"\"\\n    return f\"Weather in {location}: Sunny, 72°F\"\\n\\nagent = create_agent(model, tools=[search, get_weather])\\n\\nIf an empty tool list is provided, the agent will consist of a single LLM node without tool-calling capabilities.\\n\\u200bTool error handling\\nTo customize how tool errors are handled, use the @wrap_tool_call decorator to create middleware:\\nCopyfrom langchain.agents import create_agent\\nfrom langchain.agents.middleware import wrap_tool_call\\nfrom langchain_core.messages import ToolMessage'),\n",
       " Document(metadata={'source': 'https://docs.langchain.com/oss/python/langchain/agents', 'title': 'Agents - Docs by LangChain', 'language': 'en'}, page_content='@wrap_tool_call\\ndef handle_tool_errors(request, handler):\\n    \"\"\"Handle tool execution errors with custom messages.\"\"\"\\n    try:\\n        return handler(request)\\n    except Exception as e:\\n        # Return a custom error message to the model\\n        return ToolMessage(\\n            content=f\"Tool error: Please check your input and try again. ({str(e)})\",\\n            tool_call_id=request.tool_call[\"id\"]\\n        )\\n\\nagent = create_agent(\\n    model=\"openai:gpt-4o\",\\n    tools=[search, get_weather],\\n    middleware=[handle_tool_errors]\\n)\\n\\nThe agent will return a ToolMessage with the custom error message when a tool fails:\\nCopy[\\n    ...\\n    ToolMessage(\\n        content=\"Tool error: Please check your input and try again. (division by zero)\",\\n        tool_call_id=\"...\"\\n    ),\\n    ...\\n]'),\n",
       " Document(metadata={'source': 'https://docs.langchain.com/oss/python/langchain/agents', 'title': 'Agents - Docs by LangChain', 'language': 'en'}, page_content='\\u200bTool use in the ReAct loop\\nAgents follow the ReAct (“Reasoning + Acting”) pattern, alternating between brief reasoning steps with targeted tool calls and feeding the resulting observations into subsequent decisions until they can deliver a final answer.\\nExample of ReAct loopPrompt: Identify the current most popular wireless headphones and verify availability.Copy================================ Human Message =================================\\n\\nFind the most popular wireless headphones right now and check if they\\'re in stock\\n\\nReasoning: “Popularity is time-sensitive, I need to use the provided search tool.”\\nActing: Call search_products(\"wireless headphones\")\\nCopy================================== Ai Message ==================================\\nTool Calls:\\n  search_products (call_abc123)\\n Call ID: call_abc123\\n  Args:\\n    query: wireless headphones\\nCopy================================= Tool Message ================================='),\n",
       " Document(metadata={'source': 'https://docs.langchain.com/oss/python/langchain/agents', 'title': 'Agents - Docs by LangChain', 'language': 'en'}, page_content='Found 5 products matching \"wireless headphones\". Top 5 results: WH-1000XM5, ...\\n\\nReasoning: “I need to confirm availability for the top-ranked item before answering.”\\nActing: Call check_inventory(\"WH-1000XM5\")\\nCopy================================== Ai Message ==================================\\nTool Calls:\\n  check_inventory (call_def456)\\n Call ID: call_def456\\n  Args:\\n    product_id: WH-1000XM5\\nCopy================================= Tool Message =================================\\n\\nProduct WH-1000XM5: 10 units in stock\\n\\nReasoning: “I have the most popular model and its stock status. I can now answer the user’s question.”\\nActing: Produce final answer\\nCopy================================== Ai Message ==================================\\n\\nI found wireless headphones (model WH-1000XM5) with 10 units in stock...'),\n",
       " Document(metadata={'source': 'https://docs.langchain.com/oss/python/langchain/agents', 'title': 'Agents - Docs by LangChain', 'language': 'en'}, page_content='I found wireless headphones (model WH-1000XM5) with 10 units in stock...\\n\\nTo learn more about tools, see Tools.\\n\\u200bSystem prompt\\nYou can shape how your agent approaches tasks by providing a prompt. The system_prompt parameter can be provided as a string:\\nCopyagent = create_agent(\\n    model,\\n    tools,\\n    system_prompt=\"You are a helpful assistant. Be concise and accurate.\"\\n)\\n\\nWhen no system_prompt is provided, the agent will infer its task from the messages directly.\\n\\u200bDynamic system prompt\\nFor more advanced use cases where you need to modify the system prompt based on runtime context or agent state, you can use middleware.\\nThe @dynamic_prompt decorator creates middleware that generates system prompts dynamically based on the model request:\\nCopyfrom typing import TypedDict\\n\\nfrom langchain.agents import create_agent\\nfrom langchain.agents.middleware import dynamic_prompt, ModelRequest\\n\\n\\nclass Context(TypedDict):\\n    user_role: str'),\n",
       " Document(metadata={'source': 'https://docs.langchain.com/oss/python/langchain/agents', 'title': 'Agents - Docs by LangChain', 'language': 'en'}, page_content='class Context(TypedDict):\\n    user_role: str\\n\\n@dynamic_prompt\\ndef user_role_prompt(request: ModelRequest) -> str:\\n    \"\"\"Generate system prompt based on user role.\"\"\"\\n    user_role = request.runtime.context.get(\"user_role\", \"user\")\\n    base_prompt = \"You are a helpful assistant.\"\\n\\n    if user_role == \"expert\":\\n        return f\"{base_prompt} Provide detailed technical responses.\"\\n    elif user_role == \"beginner\":\\n        return f\"{base_prompt} Explain concepts simply and avoid jargon.\"\\n\\n    return base_prompt\\n\\nagent = create_agent(\\n    model=\"openai:gpt-4o\",\\n    tools=[web_search],\\n    middleware=[user_role_prompt],\\n    context_schema=Context\\n)\\n\\n# The system prompt will be set dynamically based on context\\nresult = agent.invoke(\\n    {\"messages\": [{\"role\": \"user\", \"content\": \"Explain machine learning\"}]},\\n    context={\"user_role\": \"expert\"}\\n)'),\n",
       " Document(metadata={'source': 'https://docs.langchain.com/oss/python/langchain/agents', 'title': 'Agents - Docs by LangChain', 'language': 'en'}, page_content='For more details on message types and formatting, see Messages. For comprehensive middleware documentation, see Middleware.\\n\\u200bInvocation\\nYou can invoke an agent by passing an update to its State. All agents include a sequence of messages in their state; to invoke the agent, pass a new message:\\nCopyresult = agent.invoke(\\n    {\"messages\": [{\"role\": \"user\", \"content\": \"What\\'s the weather in San Francisco?\"}]}\\n)'),\n",
       " Document(metadata={'source': 'https://docs.langchain.com/oss/python/langchain/agents', 'title': 'Agents - Docs by LangChain', 'language': 'en'}, page_content='For streaming steps and / or tokens from the agent, refer to the streaming guide.\\nOtherwise, the agent follows the LangGraph Graph API and supports all associated methods.\\n\\u200bAdvanced concepts\\n\\u200bStructured output\\nIn some situations, you may want the agent to return an output in a specific format. LangChain provides strategies for structured output via the response_format parameter.\\n\\u200bToolStrategy\\nToolStrategy uses artificial tool calling to generate structured output. This works with any model that supports tool calling:\\nCopyfrom pydantic import BaseModel\\nfrom langchain.agents import create_agent\\nfrom langchain.agents.structured_output import ToolStrategy\\n\\n\\nclass ContactInfo(BaseModel):\\n    name: str\\n    email: str\\n    phone: str\\n\\nagent = create_agent(\\n    model=\"openai:gpt-4o-mini\",\\n    tools=[search_tool],\\n    response_format=ToolStrategy(ContactInfo)\\n)'),\n",
       " Document(metadata={'source': 'https://docs.langchain.com/oss/python/langchain/agents', 'title': 'Agents - Docs by LangChain', 'language': 'en'}, page_content='result = agent.invoke({\\n    \"messages\": [{\"role\": \"user\", \"content\": \"Extract contact info from: John Doe, john@example.com, (555) 123-4567\"}]\\n})\\n\\nresult[\"structured_response\"]\\n# ContactInfo(name=\\'John Doe\\', email=\\'john@example.com\\', phone=\\'(555) 123-4567\\')\\n\\n\\u200bProviderStrategy\\nProviderStrategy uses the model provider’s native structured output generation. This is more reliable but only works with providers that support native structured output (e.g., OpenAI):\\nCopyfrom langchain.agents.structured_output import ProviderStrategy\\n\\nagent = create_agent(\\n    model=\"openai:gpt-4o\",\\n    response_format=ProviderStrategy(ContactInfo)\\n)'),\n",
       " Document(metadata={'source': 'https://docs.langchain.com/oss/python/langchain/agents', 'title': 'Agents - Docs by LangChain', 'language': 'en'}, page_content='As of langchain 1.0, simply passing a schema (e.g., response_format=ContactInfo) is no longer supported. You must explicitly use ToolStrategy or ProviderStrategy.\\nTo learn about structured output, see Structured output.\\n\\u200bMemory\\nAgents maintain conversation history automatically through the message state. You can also configure the agent to use a custom state schema to remember additional information during the conversation.\\nInformation stored in the state can be thought of as the short-term memory of the agent:\\nCustom state schemas must extend AgentState as a TypedDict.\\nThere are two ways to define custom state:\\n\\nVia middleware (preferred)\\nVia state_schema on create_agent'),\n",
       " Document(metadata={'source': 'https://docs.langchain.com/oss/python/langchain/agents', 'title': 'Agents - Docs by LangChain', 'language': 'en'}, page_content='Via middleware (preferred)\\nVia state_schema on create_agent\\n\\nDefining custom state via middleware is preferred over defining it via state_schema on create_agent because it allows you to keep state extensions conceptually scoped to the relevant middleware and tools.state_schema is still supported for backwards compatibility on create_agent.\\n\\u200bDefining state via middleware\\nUse middleware to define custom state when your custom state needs to be accessed by specific middleware hooks and tools attached to said middleware.\\nCopyfrom langchain.agents import AgentState\\nfrom langchain.agents.middleware import AgentMiddleware\\n\\n\\nclass CustomState(AgentState):\\n    user_preferences: dict\\n\\nclass CustomMiddleware(AgentMiddleware):\\n    state_schema = CustomState\\n    tools = [tool1, tool2]\\n\\n    def before_model(self, state: CustomState, runtime) -> dict[str, Any] | None:\\n        ...\\n\\nagent = create_agent(\\n    model,\\n    tools=tools,\\n    middleware=[CustomMiddleware()]\\n)'),\n",
       " Document(metadata={'source': 'https://docs.langchain.com/oss/python/langchain/agents', 'title': 'Agents - Docs by LangChain', 'language': 'en'}, page_content='agent = create_agent(\\n    model,\\n    tools=tools,\\n    middleware=[CustomMiddleware()]\\n)\\n\\n# The agent can now track additional state beyond messages\\nresult = agent.invoke({\\n    \"messages\": [{\"role\": \"user\", \"content\": \"I prefer technical explanations\"}],\\n    \"user_preferences\": {\"style\": \"technical\", \"verbosity\": \"detailed\"},\\n})\\n\\n\\u200bDefining state via state_schema\\nUse the state_schema parameter as a shortcut to define custom state that is only used in tools.\\nCopyfrom langchain.agents import AgentState\\n\\n\\nclass CustomState(AgentState):\\n    user_preferences: dict\\n\\nagent = create_agent(\\n    model,\\n    tools=[tool1, tool2],\\n    state_schema=CustomState\\n)\\n# The agent can now track additional state beyond messages\\nresult = agent.invoke({\\n    \"messages\": [{\"role\": \"user\", \"content\": \"I prefer technical explanations\"}],\\n    \"user_preferences\": {\"style\": \"technical\", \"verbosity\": \"detailed\"},\\n})'),\n",
       " Document(metadata={'source': 'https://docs.langchain.com/oss/python/langchain/agents', 'title': 'Agents - Docs by LangChain', 'language': 'en'}, page_content='As of langchain 1.0, custom state schemas must be TypedDict types. Pydantic models and dataclasses are no longer supported. See the v1 migration guide for more details.\\nTo learn more about memory, see Memory. For information on implementing long-term memory that persists across sessions, see Long-term memory.\\n\\u200bStreaming\\nWe’ve seen how the agent can be called with invoke to get a final response. If the agent executes multiple steps, this may take a while. To show intermediate progress, we can stream back messages as they occur.\\nCopyfor chunk in agent.stream({\\n    \"messages\": [{\"role\": \"user\", \"content\": \"Search for AI news and summarize the findings\"}]\\n}, stream_mode=\"values\"):\\n    # Each chunk contains the full state at that point\\n    latest_message = chunk[\"messages\"][-1]\\n    if latest_message.content:\\n        print(f\"Agent: {latest_message.content}\")\\n    elif latest_message.tool_calls:\\n        print(f\"Calling tools: {[tc[\\'name\\'] for tc in latest_message.tool_calls]}\")'),\n",
       " Document(metadata={'source': 'https://docs.langchain.com/oss/python/langchain/agents', 'title': 'Agents - Docs by LangChain', 'language': 'en'}, page_content='For more details on streaming, see Streaming.\\n\\u200bMiddleware\\nMiddleware provides powerful extensibility for customizing agent behavior at different stages of execution. You can use middleware to:\\n\\nProcess state before the model is called (e.g., message trimming, context injection)\\nModify or validate the model’s response (e.g., guardrails, content filtering)\\nHandle tool execution errors with custom logic\\nImplement dynamic model selection based on state or context\\nAdd custom logging, monitoring, or analytics\\n\\nMiddleware integrates seamlessly into the agent’s execution graph, allowing you to intercept and modify data flow at key points without changing the core agent logic.\\nFor comprehensive middleware documentation including decorators like @before_model, @after_model, and @wrap_tool_call, see Middleware.'),\n",
       " Document(metadata={'source': 'https://docs.langchain.com/oss/python/langchain/agents', 'title': 'Agents - Docs by LangChain', 'language': 'en'}, page_content='Edit the source of this page on GitHubWas this page helpful?YesNoPhilosophyPreviousModelsNext⌘IDocs by LangChain home pagegithubxlinkedinyoutubeResourcesForumChangelogLangChain AcademyTrust CenterCompanyAboutCareersBloggithubxlinkedinyoutubePowered by Mintlify')]"
      ]
     },
     "execution_count": 3,
     "metadata": {},
     "output_type": "execute_result"
    }
   ],
   "source": [
    "from langchain_text_splitters import RecursiveCharacterTextSplitter\n",
    "\n",
    "text_splitter=RecursiveCharacterTextSplitter(chunk_size=1000,chunk_overlap=100)\n",
    "text_split=text_splitter.split_documents(docs)\n",
    "text_split"
   ]
  },
  {
   "cell_type": "code",
   "execution_count": 4,
   "id": "fe01d424",
   "metadata": {},
   "outputs": [],
   "source": [
    "from langchain_openai import OpenAIEmbeddings\n",
    "embeddings=OpenAIEmbeddings()"
   ]
  },
  {
   "cell_type": "code",
   "execution_count": 5,
   "id": "1b01a987",
   "metadata": {},
   "outputs": [],
   "source": [
    "import os\n",
    "from dotenv import load_dotenv\n",
    "load_dotenv()\n",
    "\n",
    "os.environ[\"LANGCHAIN_API_KEY\"]=os.getenv(\"LANGCHAIN_API_KEY\")\n",
    "os.environ[\"OPENAI_API_KEY\"]=os.getenv(\"OPENAI_API_KEY\")\n",
    "os.environ[\"LANGCHAIN_TRACING_V2\"]=\"true\"\n"
   ]
  },
  {
   "cell_type": "code",
   "execution_count": 6,
   "id": "b5b0a452",
   "metadata": {},
   "outputs": [],
   "source": [
    "from langchain_community.vectorstores import FAISS\n",
    "vectorstoredb=FAISS.from_documents(text_split,embeddings)"
   ]
  },
  {
   "cell_type": "code",
   "execution_count": 7,
   "id": "fb2ab943",
   "metadata": {},
   "outputs": [
    {
     "data": {
      "text/plain": [
       "'Model instances give you complete control over configuration. Use them when you need to set specific parameters like temperature, max_tokens, timeouts, base_url, and other provider-specific settings. Refer to the reference to see available params and methods on your model.\\n\\u200bDynamic model\\nDynamic models are selected at runtime based on the current state and context. This enables sophisticated routing logic and cost optimization.\\nTo use a dynamic model, create middleware using the @wrap_model_call decorator that modifies the model in the request:\\nCopyfrom langchain_openai import ChatOpenAI\\nfrom langchain.agents import create_agent\\nfrom langchain.agents.middleware import wrap_model_call, ModelRequest, ModelResponse\\n\\n\\nbasic_model = ChatOpenAI(model=\"gpt-4o-mini\")\\nadvanced_model = ChatOpenAI(model=\"gpt-4o\")'"
      ]
     },
     "execution_count": 7,
     "metadata": {},
     "output_type": "execute_result"
    }
   ],
   "source": [
    "query=\"For more control over the model configuration\"\n",
    "result=vectorstoredb.similarity_search(query)\n",
    "result[0].page_content"
   ]
  },
  {
   "cell_type": "code",
   "execution_count": 8,
   "id": "d061f809",
   "metadata": {},
   "outputs": [],
   "source": [
    "from langchain_openai import ChatOpenAI\n",
    "llm=ChatOpenAI(model=\"gpt-4o\")"
   ]
  },
  {
   "cell_type": "code",
   "execution_count": 9,
   "id": "ee9ff2b8",
   "metadata": {},
   "outputs": [
    {
     "ename": "ModuleNotFoundError",
     "evalue": "No module named 'langchain.chains'",
     "output_type": "error",
     "traceback": [
      "\u001b[0;31m---------------------------------------------------------------------------\u001b[0m",
      "\u001b[0;31mModuleNotFoundError\u001b[0m                       Traceback (most recent call last)",
      "Cell \u001b[0;32mIn[9], line 1\u001b[0m\n\u001b[0;32m----> 1\u001b[0m \u001b[38;5;28;01mfrom\u001b[39;00m\u001b[38;5;250m \u001b[39m\u001b[38;5;21;01mlangchain\u001b[39;00m\u001b[38;5;21;01m.\u001b[39;00m\u001b[38;5;21;01mchains\u001b[39;00m\u001b[38;5;21;01m.\u001b[39;00m\u001b[38;5;21;01mcombine_documents\u001b[39;00m\u001b[38;5;250m \u001b[39m\u001b[38;5;28;01mimport\u001b[39;00m create_stuff_documents_chain\n\u001b[1;32m      2\u001b[0m \u001b[38;5;28;01mfrom\u001b[39;00m\u001b[38;5;250m \u001b[39m\u001b[38;5;21;01mlangchain_core\u001b[39;00m\u001b[38;5;21;01m.\u001b[39;00m\u001b[38;5;21;01mprompts\u001b[39;00m\u001b[38;5;250m \u001b[39m\u001b[38;5;28;01mimport\u001b[39;00m ChatPromptTemplate\n\u001b[1;32m      6\u001b[0m prompts\u001b[38;5;241m=\u001b[39mChatPromptTemplate(\n\u001b[1;32m      7\u001b[0m     [\n\u001b[1;32m      8\u001b[0m \u001b[38;5;250m        \u001b[39m\u001b[38;5;124;03m\"\"\"\u001b[39;00m\n\u001b[0;32m   (...)\u001b[0m\n\u001b[1;32m     15\u001b[0m     ]\n\u001b[1;32m     16\u001b[0m )\n",
      "\u001b[0;31mModuleNotFoundError\u001b[0m: No module named 'langchain.chains'"
     ]
    }
   ],
   "source": [
    "from langchain.chains.combine_documents import create_stuff_documents_chain\n",
    "from langchain_core.prompts import ChatPromptTemplate\n",
    "\n",
    "\n",
    "\n",
    "prompts=ChatPromptTemplate(\n",
    "    [\n",
    "        \"\"\"\n",
    "        \"Answer based on context only\",\n",
    "        <context>\n",
    "        {context}\n",
    "        </context>\n",
    "        \"\"\"\n",
    "        \n",
    "    ]\n",
    ")\n",
    "prompts"
   ]
  },
  {
   "cell_type": "code",
   "execution_count": null,
   "id": "ad7ba80f",
   "metadata": {},
   "outputs": [],
   "source": []
  },
  {
   "cell_type": "code",
   "execution_count": null,
   "id": "a14de87b",
   "metadata": {},
   "outputs": [],
   "source": []
  },
  {
   "cell_type": "code",
   "execution_count": null,
   "id": "baea076c",
   "metadata": {},
   "outputs": [],
   "source": []
  }
 ],
 "metadata": {
  "kernelspec": {
   "display_name": "myenv",
   "language": "python",
   "name": "python3"
  },
  "language_info": {
   "codemirror_mode": {
    "name": "ipython",
    "version": 3
   },
   "file_extension": ".py",
   "mimetype": "text/x-python",
   "name": "python",
   "nbconvert_exporter": "python",
   "pygments_lexer": "ipython3",
   "version": "3.10.19"
  }
 },
 "nbformat": 4,
 "nbformat_minor": 5
}
